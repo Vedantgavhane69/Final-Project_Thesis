{
 "cells": [
  {
   "cell_type": "code",
   "execution_count": 2,
   "metadata": {},
   "outputs": [
    {
     "name": "stderr",
     "output_type": "stream",
     "text": [
      "c:\\Users\\shlok\\anaconda3\\envs\\MachineLearning\\lib\\site-packages\\sklearn\\preprocessing\\_encoders.py:975: FutureWarning: `sparse` was renamed to `sparse_output` in version 1.2 and will be removed in 1.4. `sparse_output` is ignored unless you leave `sparse` to its default value.\n",
      "  warnings.warn(\n"
     ]
    },
    {
     "name": "stdout",
     "output_type": "stream",
     "text": [
      "Epoch 1/10\n",
      "100/100 [==============================] - 45s 344ms/step - loss: 0.5812 - accuracy: 0.7000 - val_loss: 0.4662 - val_accuracy: 0.7812\n",
      "Epoch 2/10\n",
      "100/100 [==============================] - 32s 323ms/step - loss: 0.3791 - accuracy: 0.8441 - val_loss: 0.4777 - val_accuracy: 0.7937\n",
      "Epoch 3/10\n",
      "100/100 [==============================] - 32s 316ms/step - loss: 0.2523 - accuracy: 0.9003 - val_loss: 0.2425 - val_accuracy: 0.9075\n",
      "Epoch 4/10\n",
      "100/100 [==============================] - 32s 322ms/step - loss: 0.1960 - accuracy: 0.9222 - val_loss: 0.2399 - val_accuracy: 0.9100\n",
      "Epoch 5/10\n",
      "100/100 [==============================] - 32s 320ms/step - loss: 0.1776 - accuracy: 0.9334 - val_loss: 0.2057 - val_accuracy: 0.9200\n",
      "Epoch 6/10\n",
      "100/100 [==============================] - 32s 316ms/step - loss: 0.1367 - accuracy: 0.9469 - val_loss: 0.1865 - val_accuracy: 0.9250\n",
      "Epoch 7/10\n",
      "100/100 [==============================] - 31s 312ms/step - loss: 0.1077 - accuracy: 0.9622 - val_loss: 0.1227 - val_accuracy: 0.9500\n",
      "Epoch 8/10\n",
      "100/100 [==============================] - 32s 320ms/step - loss: 0.0936 - accuracy: 0.9688 - val_loss: 0.1141 - val_accuracy: 0.9588\n",
      "Epoch 9/10\n",
      "100/100 [==============================] - 32s 322ms/step - loss: 0.0577 - accuracy: 0.9806 - val_loss: 0.1418 - val_accuracy: 0.9550\n",
      "Epoch 10/10\n",
      "100/100 [==============================] - 32s 319ms/step - loss: 0.0773 - accuracy: 0.9719 - val_loss: 0.1396 - val_accuracy: 0.9600\n"
     ]
    },
    {
     "data": {
      "text/plain": [
       "<keras.callbacks.History at 0x277c6da67c0>"
      ]
     },
     "execution_count": 2,
     "metadata": {},
     "output_type": "execute_result"
    }
   ],
   "source": [
    "import os\n",
    "import cv2\n",
    "import numpy as np\n",
    "from tensorflow.keras.models import Sequential\n",
    "from tensorflow.keras.layers import LSTM, Dense, Dropout, Flatten\n",
    "from sklearn.model_selection import train_test_split\n",
    "from sklearn.preprocessing import LabelEncoder, OneHotEncoder\n",
    "\n",
    "# Set the path to your labeled dataset folders\n",
    "malicious_dir = 'QR codes\\Malicious\\malicious'\n",
    "non_malicious_dir = r'QR codes\\Benign\\benign'\n",
    "\n",
    "# List to store the labels ('malicious' or 'non-malicious') and images\n",
    "labels = []\n",
    "images = []\n",
    "\n",
    "# Load malicious images\n",
    "for filename in os.listdir(malicious_dir):\n",
    "    if filename.endswith(\".png\") or filename.endswith(\".jpg\"):\n",
    "        labels.append('malicious')\n",
    "        img = cv2.imread(os.path.join(malicious_dir, filename), cv2.IMREAD_GRAYSCALE)\n",
    "        img = cv2.resize(img, (128, 128))\n",
    "        images.append(img)\n",
    "\n",
    "# Load non-malicious images\n",
    "for filename in os.listdir(non_malicious_dir):\n",
    "    if filename.endswith(\".png\") or filename.endswith(\".jpg\"):\n",
    "        labels.append('non-malicious')\n",
    "        img = cv2.imread(os.path.join(non_malicious_dir, filename), cv2.IMREAD_GRAYSCALE)\n",
    "        img = cv2.resize(img, (128, 128))\n",
    "        images.append(img)\n",
    "\n",
    "# Convert labels to numerical values\n",
    "label_encoder = LabelEncoder()\n",
    "labels_encoded = label_encoder.fit_transform(labels)\n",
    "onehot_encoder = OneHotEncoder(sparse=False)\n",
    "labels_encoded = onehot_encoder.fit_transform(labels_encoded.reshape(-1, 1))\n",
    "\n",
    "X_train, X_test, y_train, y_test = train_test_split(images, labels_encoded, test_size=0.2, random_state=42)\n",
    "X_train = np.array(X_train) / 255.0\n",
    "X_test = np.array(X_test) / 255.0\n",
    "\n",
    "# Reshape the input for LSTM model\n",
    "X_train = np.reshape(X_train, (X_train.shape[0], 128, 128))\n",
    "X_test = np.reshape(X_test, (X_test.shape[0], 128, 128))\n",
    "\n",
    "# Build the LSTM model\n",
    "model = Sequential()\n",
    "model.add(LSTM(128, input_shape=(128, 128), return_sequences=True))\n",
    "model.add(Dropout(0.5))\n",
    "model.add(LSTM(64, return_sequences=True))\n",
    "model.add(Dropout(0.5))\n",
    "model.add(LSTM(32))\n",
    "model.add(Dense(2, activation='softmax'))\n",
    "\n",
    "model.compile(optimizer='adam', loss='categorical_crossentropy', metrics=['accuracy'])\n",
    "\n",
    "model.fit(X_train, y_train, epochs=10, batch_size=32, validation_data=(X_test, y_test))\n",
    "\n",
    "# Now you can use the trained model to make predictions on new data\n",
    "# Make sure to preprocess the new data similarly before making predictions\n"
   ]
  },
  {
   "cell_type": "code",
   "execution_count": 39,
   "metadata": {},
   "outputs": [],
   "source": [
    "model.save('qr_code_BinaryLSTM_model.h5')"
   ]
  },
  {
   "cell_type": "code",
   "execution_count": 3,
   "metadata": {},
   "outputs": [
    {
     "ename": "NameError",
     "evalue": "name 'np' is not defined",
     "output_type": "error",
     "traceback": [
      "\u001b[1;31m---------------------------------------------------------------------------\u001b[0m",
      "\u001b[1;31mNameError\u001b[0m                                 Traceback (most recent call last)",
      "\u001b[1;32mc:\\Users\\ACER\\OneDrive\\Desktop\\Final Project\\BinaryLSTM.ipynb Cell 3\u001b[0m line \u001b[0;36m1\n\u001b[0;32m     <a href='vscode-notebook-cell:/c%3A/Users/ACER/OneDrive/Desktop/Final%20Project/BinaryLSTM.ipynb#W2sZmlsZQ%3D%3D?line=14'>15</a>\u001b[0m \u001b[39m# Example usage\u001b[39;00m\n\u001b[0;32m     <a href='vscode-notebook-cell:/c%3A/Users/ACER/OneDrive/Desktop/Final%20Project/BinaryLSTM.ipynb#W2sZmlsZQ%3D%3D?line=15'>16</a>\u001b[0m qr_code_image \u001b[39m=\u001b[39m\u001b[39mr\u001b[39m\u001b[39m'\u001b[39m\u001b[39mC:\u001b[39m\u001b[39m\\\u001b[39m\u001b[39mUsers\u001b[39m\u001b[39m\\\u001b[39m\u001b[39mACER\u001b[39m\u001b[39m\\\u001b[39m\u001b[39mOneDrive\u001b[39m\u001b[39m\\\u001b[39m\u001b[39mDesktop\u001b[39m\u001b[39m\\\u001b[39m\u001b[39mFinal Project\u001b[39m\u001b[39m\\\u001b[39m\u001b[39mQR codes\u001b[39m\u001b[39m\\\u001b[39m\u001b[39mMalicious\u001b[39m\u001b[39m\\\u001b[39m\u001b[39mmalicious\u001b[39m\u001b[39m\\\u001b[39m\u001b[39mmalicious_416236.png\u001b[39m\u001b[39m'\u001b[39m\n\u001b[1;32m---> <a href='vscode-notebook-cell:/c%3A/Users/ACER/OneDrive/Desktop/Final%20Project/BinaryLSTM.ipynb#W2sZmlsZQ%3D%3D?line=16'>17</a>\u001b[0m classification_result \u001b[39m=\u001b[39m classify_qr_code(qr_code_image)\n\u001b[0;32m     <a href='vscode-notebook-cell:/c%3A/Users/ACER/OneDrive/Desktop/Final%20Project/BinaryLSTM.ipynb#W2sZmlsZQ%3D%3D?line=17'>18</a>\u001b[0m \u001b[39mprint\u001b[39m(\u001b[39m'\u001b[39m\u001b[39mClassification result:\u001b[39m\u001b[39m'\u001b[39m, classification_result)\n",
      "\u001b[1;32mc:\\Users\\ACER\\OneDrive\\Desktop\\Final Project\\BinaryLSTM.ipynb Cell 3\u001b[0m line \u001b[0;36m8\n\u001b[0;32m      <a href='vscode-notebook-cell:/c%3A/Users/ACER/OneDrive/Desktop/Final%20Project/BinaryLSTM.ipynb#W2sZmlsZQ%3D%3D?line=5'>6</a>\u001b[0m gray_image \u001b[39m=\u001b[39m cv2\u001b[39m.\u001b[39mcvtColor(qr_code_image, cv2\u001b[39m.\u001b[39mCOLOR_BGR2GRAY)\n\u001b[0;32m      <a href='vscode-notebook-cell:/c%3A/Users/ACER/OneDrive/Desktop/Final%20Project/BinaryLSTM.ipynb#W2sZmlsZQ%3D%3D?line=6'>7</a>\u001b[0m resized_image \u001b[39m=\u001b[39m cv2\u001b[39m.\u001b[39mresize(gray_image, (\u001b[39m128\u001b[39m, \u001b[39m128\u001b[39m))\n\u001b[1;32m----> <a href='vscode-notebook-cell:/c%3A/Users/ACER/OneDrive/Desktop/Final%20Project/BinaryLSTM.ipynb#W2sZmlsZQ%3D%3D?line=7'>8</a>\u001b[0m qr_code_data \u001b[39m=\u001b[39m np\u001b[39m.\u001b[39mexpand_dims(resized_image \u001b[39m/\u001b[39m \u001b[39m255.0\u001b[39m, axis\u001b[39m=\u001b[39m\u001b[39m0\u001b[39m)\n\u001b[0;32m      <a href='vscode-notebook-cell:/c%3A/Users/ACER/OneDrive/Desktop/Final%20Project/BinaryLSTM.ipynb#W2sZmlsZQ%3D%3D?line=8'>9</a>\u001b[0m prediction \u001b[39m=\u001b[39m model\u001b[39m.\u001b[39mpredict(qr_code_data)\n\u001b[0;32m     <a href='vscode-notebook-cell:/c%3A/Users/ACER/OneDrive/Desktop/Final%20Project/BinaryLSTM.ipynb#W2sZmlsZQ%3D%3D?line=9'>10</a>\u001b[0m label \u001b[39m=\u001b[39m np\u001b[39m.\u001b[39margmax(prediction)\n",
      "\u001b[1;31mNameError\u001b[0m: name 'np' is not defined"
     ]
    }
   ],
   "source": [
    "from keras.models import load_model \n",
    "import cv2\n",
    "import numpy as np\n",
    "model = load_model('qr_code_BinaryLSTM_model.h5')\n",
    "def classify_qr_code(qr_code_image_path):\n",
    "    qr_code_image = cv2.imread(qr_code_image_path)\n",
    "    gray_image = cv2.cvtColor(qr_code_image, cv2.COLOR_BGR2GRAY)\n",
    "    resized_image = cv2.resize(gray_image, (128, 128))\n",
    "    qr_code_data = np.expand_dims(resized_image / 255.0, axis=0)\n",
    "    prediction = model.predict(qr_code_data)\n",
    "    label = np.argmax(prediction)\n",
    "    if label == 0:\n",
    "        return 'MALICIOUS'\n",
    "    else:\n",
    "        return 'NOT MALICIOUS'\n",
    "# Example usage\n",
    "qr_code_image =r'C:\\Users\\ACER\\OneDrive\\Desktop\\Final Project\\QR codes\\Malicious\\malicious\\malicious_416236.png'\n",
    "classification_result = classify_qr_code(qr_code_image)\n",
    "print('Classification result:', classification_result)"
   ]
  },
  {
   "cell_type": "code",
   "execution_count": 5,
   "metadata": {},
   "outputs": [
    {
     "data": {
      "text/plain": [
       "800"
      ]
     },
     "execution_count": 5,
     "metadata": {},
     "output_type": "execute_result"
    }
   ],
   "source": [
    "len(y_test)"
   ]
  },
  {
   "cell_type": "code",
   "execution_count": 26,
   "metadata": {},
   "outputs": [
    {
     "name": "stdout",
     "output_type": "stream",
     "text": [
      "25/25 [==============================] - 3s 132ms/step\n"
     ]
    }
   ],
   "source": [
    "output=model.predict(X_test)"
   ]
  },
  {
   "cell_type": "code",
   "execution_count": 22,
   "metadata": {},
   "outputs": [],
   "source": [
    "y_pred=[]\n",
    "for i in output:\n",
    "     y_pred.append(np.argmax(i))\n",
    "y_pred=np.array(y_pred)"
   ]
  },
  {
   "cell_type": "code",
   "execution_count": 31,
   "metadata": {},
   "outputs": [],
   "source": [
    "new_y_test=[]\n",
    "for i in y_test:\n",
    "    new_y_test.append(np.argmax(i))\n",
    "    "
   ]
  },
  {
   "cell_type": "code",
   "execution_count": 6,
   "metadata": {},
   "outputs": [
    {
     "ename": "NameError",
     "evalue": "name 'new_y_test' is not defined",
     "output_type": "error",
     "traceback": [
      "\u001b[1;31m---------------------------------------------------------------------------\u001b[0m",
      "\u001b[1;31mNameError\u001b[0m                                 Traceback (most recent call last)",
      "\u001b[1;32md:\\myProject\\QR Detection\\Final Project\\BinaryLSTM.ipynb Cell 9\u001b[0m line \u001b[0;36m2\n\u001b[0;32m      <a href='vscode-notebook-cell:/d%3A/myProject/QR%20Detection/Final%20Project/BinaryLSTM.ipynb#X11sZmlsZQ%3D%3D?line=0'>1</a>\u001b[0m \u001b[39mfrom\u001b[39;00m \u001b[39msklearn\u001b[39;00m\u001b[39m.\u001b[39;00m\u001b[39mmetrics\u001b[39;00m \u001b[39mimport\u001b[39;00m confusion_matrix,f1_score,precision_recall_curve,accuracy_score,roc_auc_score,precision_recall_curve\n\u001b[1;32m----> <a href='vscode-notebook-cell:/d%3A/myProject/QR%20Detection/Final%20Project/BinaryLSTM.ipynb#X11sZmlsZQ%3D%3D?line=1'>2</a>\u001b[0m confusion_matrix(new_y_test,y_pred)\n",
      "\u001b[1;31mNameError\u001b[0m: name 'new_y_test' is not defined"
     ]
    }
   ],
   "source": [
    "from sklearn.metrics import confusion_matrix,f1_score,precision_recall_curve,accuracy_score,roc_auc_score,precision_recall_curve\n",
    "confusion_matrix(new_y_test,y_pred)"
   ]
  },
  {
   "cell_type": "code",
   "execution_count": 35,
   "metadata": {},
   "outputs": [
    {
     "data": {
      "text/plain": [
       "0.96"
      ]
     },
     "execution_count": 35,
     "metadata": {},
     "output_type": "execute_result"
    }
   ],
   "source": [
    "accuracy_score(new_y_test,y_pred)"
   ]
  },
  {
   "cell_type": "code",
   "execution_count": 36,
   "metadata": {},
   "outputs": [
    {
     "data": {
      "text/plain": [
       "0.9571045576407506"
      ]
     },
     "execution_count": 36,
     "metadata": {},
     "output_type": "execute_result"
    }
   ],
   "source": [
    "f1_score(new_y_test,y_pred)"
   ]
  },
  {
   "cell_type": "code",
   "execution_count": 38,
   "metadata": {},
   "outputs": [
    {
     "data": {
      "text/plain": [
       "0.959189046866772"
      ]
     },
     "execution_count": 38,
     "metadata": {},
     "output_type": "execute_result"
    }
   ],
   "source": [
    "roc_auc_score(new_y_test,y_pred)"
   ]
  },
  {
   "cell_type": "code",
   "execution_count": 5,
   "metadata": {},
   "outputs": [
    {
     "ename": "NameError",
     "evalue": "name 'precision_recall_curve' is not defined",
     "output_type": "error",
     "traceback": [
      "\u001b[1;31m---------------------------------------------------------------------------\u001b[0m",
      "\u001b[1;31mNameError\u001b[0m                                 Traceback (most recent call last)",
      "\u001b[1;32md:\\myProject\\QR Detection\\Final Project\\BinaryLSTM.ipynb Cell 13\u001b[0m line \u001b[0;36m1\n\u001b[1;32m----> <a href='vscode-notebook-cell:/d%3A/myProject/QR%20Detection/Final%20Project/BinaryLSTM.ipynb#X14sZmlsZQ%3D%3D?line=0'>1</a>\u001b[0m precision, recall, _ \u001b[39m=\u001b[39m precision_recall_curve(new_y_test,y_pred)\n\u001b[0;32m      <a href='vscode-notebook-cell:/d%3A/myProject/QR%20Detection/Final%20Project/BinaryLSTM.ipynb#X14sZmlsZQ%3D%3D?line=1'>2</a>\u001b[0m \u001b[39mimport\u001b[39;00m \u001b[39mmatplotlib\u001b[39;00m\u001b[39m.\u001b[39;00m\u001b[39mpyplot\u001b[39;00m \u001b[39mas\u001b[39;00m \u001b[39mplt\u001b[39;00m\n\u001b[0;32m      <a href='vscode-notebook-cell:/d%3A/myProject/QR%20Detection/Final%20Project/BinaryLSTM.ipynb#X14sZmlsZQ%3D%3D?line=3'>4</a>\u001b[0m plt\u001b[39m.\u001b[39mfigure(figsize\u001b[39m=\u001b[39m(\u001b[39m8\u001b[39m, \u001b[39m6\u001b[39m))\n",
      "\u001b[1;31mNameError\u001b[0m: name 'precision_recall_curve' is not defined"
     ]
    }
   ],
   "source": [
    "precision, recall, _ = precision_recall_curve(new_y_test,y_pred)\n",
    "import matplotlib.pyplot as plt\n",
    "\n",
    "plt.figure(figsize=(8, 6))\n",
    "plt.plot(recall, precision, label='Precision-Recall Curve')\n",
    "plt.xlabel('Recall')\n",
    "plt.ylabel('Precision')\n",
    "plt.title('Precision-Recall Curve')\n",
    "plt.legend()\n",
    "plt.show()"
   ]
  }
 ],
 "metadata": {
  "kernelspec": {
   "display_name": "MachineLearning",
   "language": "python",
   "name": "python3"
  },
  "language_info": {
   "codemirror_mode": {
    "name": "ipython",
    "version": 3
   },
   "file_extension": ".py",
   "mimetype": "text/x-python",
   "name": "python",
   "nbconvert_exporter": "python",
   "pygments_lexer": "ipython3",
   "version": "3.11.5"
  }
 },
 "nbformat": 4,
 "nbformat_minor": 2
}
