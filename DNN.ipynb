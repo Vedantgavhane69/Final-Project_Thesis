{
 "cells": [
  {
   "cell_type": "code",
   "execution_count": 1,
   "metadata": {},
   "outputs": [
    {
     "name": "stdout",
     "output_type": "stream",
     "text": [
      "Epoch 1/10\n",
      "100/100 [==============================] - 5s 34ms/step - loss: 1.0817 - accuracy: 0.5075 - val_loss: 0.6732 - val_accuracy: 0.4725\n",
      "Epoch 2/10\n",
      "100/100 [==============================] - 3s 31ms/step - loss: 0.6931 - accuracy: 0.4922 - val_loss: 0.6934 - val_accuracy: 0.4725\n",
      "Epoch 3/10\n",
      "100/100 [==============================] - 3s 32ms/step - loss: 0.6931 - accuracy: 0.5069 - val_loss: 0.6937 - val_accuracy: 0.4725\n",
      "Epoch 4/10\n",
      "100/100 [==============================] - 3s 28ms/step - loss: 0.6932 - accuracy: 0.5069 - val_loss: 0.6938 - val_accuracy: 0.4725\n",
      "Epoch 5/10\n",
      "100/100 [==============================] - 2s 23ms/step - loss: 0.6931 - accuracy: 0.5069 - val_loss: 0.6937 - val_accuracy: 0.4725\n",
      "Epoch 6/10\n",
      "100/100 [==============================] - 2s 25ms/step - loss: 0.6930 - accuracy: 0.5069 - val_loss: 0.6939 - val_accuracy: 0.4725\n",
      "Epoch 7/10\n",
      "100/100 [==============================] - 2s 22ms/step - loss: 0.6931 - accuracy: 0.5069 - val_loss: 0.6940 - val_accuracy: 0.4725\n",
      "Epoch 8/10\n",
      "100/100 [==============================] - 2s 22ms/step - loss: 0.6931 - accuracy: 0.5069 - val_loss: 0.6939 - val_accuracy: 0.4725\n",
      "Epoch 9/10\n",
      "100/100 [==============================] - 2s 23ms/step - loss: 0.6930 - accuracy: 0.5069 - val_loss: 0.6939 - val_accuracy: 0.4725\n",
      "Epoch 10/10\n",
      "100/100 [==============================] - 2s 23ms/step - loss: 0.6931 - accuracy: 0.5069 - val_loss: 0.6939 - val_accuracy: 0.4725\n",
      "25/25 [==============================] - 0s 9ms/step - loss: 0.6939 - accuracy: 0.4725\n",
      "Test Accuracy: 0.4724999964237213\n"
     ]
    }
   ],
   "source": [
    "import os\n",
    "import cv2\n",
    "import numpy as np\n",
    "from tensorflow.keras.models import Sequential\n",
    "from tensorflow.keras.layers import Dense, Flatten, Dropout\n",
    "from sklearn.model_selection import train_test_split\n",
    "from sklearn.preprocessing import LabelEncoder\n",
    "\n",
    "# Set the path to your labeled dataset folders\n",
    "malicious_dir = 'QR codes\\Malicious\\malicious'\n",
    "non_malicious_dir = r'QR codes\\Benign\\benign'\n",
    "# List to store the labels ('malicious' or 'non-malicious') and images\n",
    "labels = []\n",
    "images = []\n",
    "\n",
    "# Load malicious images\n",
    "for filename in os.listdir(malicious_dir):\n",
    "    if filename.endswith(\".png\") or filename.endswith(\".jpg\"):\n",
    "        labels.append('malicious')\n",
    "        img = cv2.imread(os.path.join(malicious_dir, filename), cv2.IMREAD_GRAYSCALE)\n",
    "        img = cv2.resize(img, (128, 128))\n",
    "        images.append(img)\n",
    "\n",
    "# Load non-malicious images\n",
    "for filename in os.listdir(non_malicious_dir):\n",
    "    if filename.endswith(\".png\") or filename.endswith(\".jpg\"):\n",
    "        labels.append('non-malicious')\n",
    "        img = cv2.imread(os.path.join(non_malicious_dir, filename), cv2.IMREAD_GRAYSCALE)\n",
    "        img = cv2.resize(img, (128, 128))\n",
    "        images.append(img)\n",
    "\n",
    "# Convert labels to numerical values\n",
    "label_encoder = LabelEncoder()\n",
    "labels_encoded = label_encoder.fit_transform(labels)\n",
    "\n",
    "# Split the data into training and testing sets\n",
    "X_train, X_test, y_train, y_test = train_test_split(images, labels_encoded, test_size=0.2, random_state=42)\n",
    "\n",
    "# Normalize pixel values to between 0 and 1\n",
    "X_train = np.array(X_train) / 255.0\n",
    "X_test = np.array(X_test) / 255.0\n",
    "\n",
    "# Build the DNN model\n",
    "model = Sequential()\n",
    "model.add(Flatten(input_shape=(128, 128)))  # Flatten the 128x128 images\n",
    "model.add(Dense(128, activation='relu'))\n",
    "model.add(Dropout(0.5))\n",
    "model.add(Dense(64, activation='relu'))\n",
    "model.add(Dropout(0.5))\n",
    "model.add(Dense(1, activation='sigmoid'))  # Output layer with sigmoid activation for binary classification\n",
    "\n",
    "# Compile the model\n",
    "model.compile(optimizer='adam', loss='binary_crossentropy', metrics=['accuracy'])\n",
    "\n",
    "# Train the model\n",
    "model.fit(X_train, y_train, epochs=10, batch_size=32, validation_data=(X_test, y_test))\n",
    "\n",
    "# Evaluate the model on the test set\n",
    "accuracy = model.evaluate(X_test, y_test)[1]\n",
    "print(\"Test Accuracy:\", accuracy)\n",
    "\n",
    "# Save the model\n",
    "model.save('qr_code_dnn_model.h5')\n"
   ]
  },
  {
   "cell_type": "code",
   "execution_count": 2,
   "metadata": {},
   "outputs": [
    {
     "name": "stdout",
     "output_type": "stream",
     "text": [
      "1/1 [==============================] - 0s 259ms/step\n",
      "Predicted class: malicious\n"
     ]
    }
   ],
   "source": [
    "import cv2\n",
    "import numpy as np\n",
    "from tensorflow.keras.models import load_model\n",
    "\n",
    "# Load the trained model\n",
    "model = load_model('qr_code_dnn_model.h5')  # Replace with the actual path to your trained model\n",
    "\n",
    "# Function to preprocess a new QR code image\n",
    "new_qr_code_path = 'path'\n",
    "def preprocess_image_dnn(img_path):\n",
    "    img = cv2.imread(img_path, cv2.IMREAD_GRAYSCALE)\n",
    "    img = cv2.resize(img, (128, 128))\n",
    "    img = np.array(img) / 255.0\n",
    "    img = np.reshape(img, (1, 128, 128))  # Add an extra dimension for batch_size\n",
    "    return img\n",
    "\n",
    "# Function to predict the class of a new QR code\n",
    "def predict_qr_code(img_path):\n",
    "    img = preprocess_image_dnn(img_path)\n",
    "    prediction = model.predict(img)\n",
    "    # Assuming the model has a sigmoid activation in the output layer for binary classification\n",
    "    predicted_class = 1 if prediction[0][0] > 0.5 else 0\n",
    "    if predicted_class == 0:\n",
    "        return \"Predicted class: non-malicious\"\n",
    "    else:\n",
    "        return \"Predicted class: malicious\"\n",
    "\n",
    "# Replace 'path/to/new_qr_code.png' with the path to your new QR code image\n",
    "new_qr_code_path = 'QR codes\\Benign\\benign_0.png'\n",
    "prediction = predict_qr_code(new_qr_code_path)\n",
    "\n",
    "# Print the prediction\n",
    "if prediction == 0:\n",
    "    print(\"Predicted class: non-malicious\")\n",
    "else:\n",
    "    print(\"Predicted class: malicious\")\n"
   ]
  },
  {
   "cell_type": "code",
   "execution_count": 3,
   "metadata": {},
   "outputs": [],
   "source": [
    "img_path='D:\\myProject\\QR Detection\\Final Project\\QR codes\\Malicious\\malicious_316254.png'\n",
    "img = cv2.imread(img_path, cv2.IMREAD_GRAYSCALE)\n",
    "img = cv2.resize(img, (128, 128))\n",
    "img = np.array(img) / 255.0\n",
    "img = np.reshape(img, (1, 128, 128))  # Add an extra dimension for batch_size"
   ]
  },
  {
   "cell_type": "code",
   "execution_count": 4,
   "metadata": {},
   "outputs": [
    {
     "name": "stdout",
     "output_type": "stream",
     "text": [
      "1/1 [==============================] - 0s 71ms/step\n"
     ]
    }
   ],
   "source": [
    "prediction = model.predict(img)"
   ]
  },
  {
   "cell_type": "code",
   "execution_count": 5,
   "metadata": {},
   "outputs": [
    {
     "data": {
      "text/plain": [
       "array([[0.5063289]], dtype=float32)"
      ]
     },
     "execution_count": 5,
     "metadata": {},
     "output_type": "execute_result"
    }
   ],
   "source": [
    "prediction"
   ]
  },
  {
   "cell_type": "code",
   "execution_count": 7,
   "metadata": {},
   "outputs": [
    {
     "name": "stdout",
     "output_type": "stream",
     "text": [
      "Predicted class: malicious\n"
     ]
    }
   ],
   "source": [
    "predicted_class = 1 if prediction[0][0] > 0.5 else 0\n",
    "if prediction == 0:\n",
    "    print(\"Predicted class: non-malicious\")\n",
    "else:\n",
    "    print(\"Predicted class: malicious\")"
   ]
  },
  {
   "cell_type": "code",
   "execution_count": 11,
   "metadata": {},
   "outputs": [
    {
     "name": "stdout",
     "output_type": "stream",
     "text": [
      "25/25 [==============================] - 0s 9ms/step\n"
     ]
    }
   ],
   "source": [
    "output=model.predict(X_test)"
   ]
  },
  {
   "cell_type": "code",
   "execution_count": 12,
   "metadata": {},
   "outputs": [],
   "source": [
    "y_pred=[]\n",
    "for i in output:\n",
    "    if i > 0.5:\n",
    "        y_pred.append(1)\n",
    "    else:\n",
    "        y_pred.append(0)"
   ]
  },
  {
   "cell_type": "code",
   "execution_count": 15,
   "metadata": {},
   "outputs": [],
   "source": [
    "y_pred=np.array(y_pred)"
   ]
  },
  {
   "cell_type": "code",
   "execution_count": 16,
   "metadata": {},
   "outputs": [
    {
     "data": {
      "text/plain": [
       "array([[  0, 422],\n",
       "       [  0, 378]], dtype=int64)"
      ]
     },
     "execution_count": 16,
     "metadata": {},
     "output_type": "execute_result"
    }
   ],
   "source": [
    "from sklearn.metrics import confusion_matrix,f1_score,precision_recall_curve,accuracy_score,roc_auc_score\n",
    "confusion_matrix(y_test,y_pred)"
   ]
  },
  {
   "cell_type": "code",
   "execution_count": 17,
   "metadata": {},
   "outputs": [
    {
     "data": {
      "text/plain": [
       "0.4725"
      ]
     },
     "execution_count": 17,
     "metadata": {},
     "output_type": "execute_result"
    }
   ],
   "source": [
    "accuracy_score(y_test,y_pred)"
   ]
  },
  {
   "cell_type": "code",
   "execution_count": 18,
   "metadata": {},
   "outputs": [
    {
     "data": {
      "text/plain": [
       "0.6417657045840407"
      ]
     },
     "execution_count": 18,
     "metadata": {},
     "output_type": "execute_result"
    }
   ],
   "source": [
    "f1_score(y_test,y_pred)"
   ]
  },
  {
   "cell_type": "code",
   "execution_count": 19,
   "metadata": {},
   "outputs": [],
   "source": [
    "precision, recall, _ = precision_recall_curve(y_test, y_pred)"
   ]
  },
  {
   "cell_type": "code",
   "execution_count": 20,
   "metadata": {},
   "outputs": [
    {
     "data": {
      "image/png": "[encoded data removed]",
      "text/plain": [
       "<Figure size 800x600 with 1 Axes>"
      ]
     },
     "metadata": {},
     "output_type": "display_data"
    }
   ],
   "source": [
    "import matplotlib.pyplot as plt\n",
    "\n",
    "plt.figure(figsize=(8, 6))\n",
    "plt.plot(recall, precision, label='Precision-Recall Curve')\n",
    "plt.xlabel('Recall')\n",
    "plt.ylabel('Precision')\n",
    "plt.title('Precision-Recall Curve')\n",
    "plt.legend()\n",
    "plt.show()"
   ]
  }
 ],
 "metadata": {
  "kernelspec": {
   "display_name": "MachineLearning",
   "language": "python",
   "name": "python3"
  },
  "language_info": {
   "codemirror_mode": {
    "name": "ipython",
    "version": 3
   },
   "file_extension": ".py",
   "mimetype": "text/x-python",
   "name": "python",
   "nbconvert_exporter": "python",
   "pygments_lexer": "ipython3",
   "version": "3.8.18"
  }
 },
 "nbformat": 4,
 "nbformat_minor": 2
}
