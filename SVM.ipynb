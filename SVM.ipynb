{
 "cells": [
  {
   "cell_type": "code",
   "execution_count": 1,
   "metadata": {},
   "outputs": [],
   "source": [
    "import os\n",
    "import cv2\n",
    "import numpy as np\n",
    "from sklearn.model_selection import train_test_split\n",
    "from sklearn.svm import SVC\n",
    "from sklearn.metrics import accuracy_score, confusion_matrix, f1_score\n",
    "from sklearn.preprocessing import LabelEncoder\n",
    "from scipy.stats import skew"
   ]
  },
  {
   "cell_type": "code",
   "execution_count": 3,
   "metadata": {},
   "outputs": [
    {
     "ename": "KeyboardInterrupt",
     "evalue": "",
     "output_type": "error",
     "traceback": [
      "\u001b[1;31m---------------------------------------------------------------------------\u001b[0m",
      "\u001b[1;31mKeyboardInterrupt\u001b[0m                         Traceback (most recent call last)",
      "\u001b[1;32mc:\\Users\\ACER\\OneDrive\\Desktop\\Final Project\\SVM.ipynb Cell 2\u001b[0m line \u001b[0;36m2\n\u001b[0;32m     <a href='vscode-notebook-cell:/c%3A/Users/ACER/OneDrive/Desktop/Final%20Project/SVM.ipynb#W1sZmlsZQ%3D%3D?line=26'>27</a>\u001b[0m \u001b[39mif\u001b[39;00m filename\u001b[39m.\u001b[39mendswith(\u001b[39m\"\u001b[39m\u001b[39m.png\u001b[39m\u001b[39m\"\u001b[39m) \u001b[39mor\u001b[39;00m filename\u001b[39m.\u001b[39mendswith(\u001b[39m\"\u001b[39m\u001b[39m.jpg\u001b[39m\u001b[39m\"\u001b[39m):\n\u001b[0;32m     <a href='vscode-notebook-cell:/c%3A/Users/ACER/OneDrive/Desktop/Final%20Project/SVM.ipynb#W1sZmlsZQ%3D%3D?line=27'>28</a>\u001b[0m     labels\u001b[39m.\u001b[39mappend(\u001b[39m'\u001b[39m\u001b[39mnon-malicious\u001b[39m\u001b[39m'\u001b[39m)\n\u001b[1;32m---> <a href='vscode-notebook-cell:/c%3A/Users/ACER/OneDrive/Desktop/Final%20Project/SVM.ipynb#W1sZmlsZQ%3D%3D?line=28'>29</a>\u001b[0m     img \u001b[39m=\u001b[39m cv2\u001b[39m.\u001b[39;49mimread(os\u001b[39m.\u001b[39;49mpath\u001b[39m.\u001b[39;49mjoin(non_malicious_dir, filename), cv2\u001b[39m.\u001b[39;49mIMREAD_GRAYSCALE)\n\u001b[0;32m     <a href='vscode-notebook-cell:/c%3A/Users/ACER/OneDrive/Desktop/Final%20Project/SVM.ipynb#W1sZmlsZQ%3D%3D?line=29'>30</a>\u001b[0m     img \u001b[39m=\u001b[39m cv2\u001b[39m.\u001b[39mresize(img, (\u001b[39m128\u001b[39m, \u001b[39m128\u001b[39m))\n\u001b[0;32m     <a href='vscode-notebook-cell:/c%3A/Users/ACER/OneDrive/Desktop/Final%20Project/SVM.ipynb#W1sZmlsZQ%3D%3D?line=30'>31</a>\u001b[0m     img_features \u001b[39m=\u001b[39m extract_features(img)\n",
      "\u001b[1;31mKeyboardInterrupt\u001b[0m: "
     ]
    }
   ],
   "source": [
    "# Set the path to your labeled dataset folders\n",
    "malicious_dir = 'QR codes\\Malicious\\malicious'\n",
    "non_malicious_dir = r'QR codes\\Benign\\benign'\n",
    "\n",
    "# List to store the labels ('malicious' or 'non-malicious') and features\n",
    "labels = []\n",
    "features = []\n",
    "\n",
    "# Function to extract statistical features from an image\n",
    "def extract_features(image):\n",
    "    mean = np.mean(image)\n",
    "    std_dev = np.std(image)\n",
    "    skewness = skew(image.flatten())\n",
    "    return [mean, std_dev, skewness]\n",
    "\n",
    "# Load malicious images and extract features\n",
    "for filename in os.listdir(malicious_dir):\n",
    "    if filename.endswith(\".png\") or filename.endswith(\".jpg\"):\n",
    "        labels.append('malicious')\n",
    "        img = cv2.imread(os.path.join(malicious_dir, filename), cv2.IMREAD_GRAYSCALE)\n",
    "        img = cv2.resize(img, (128, 128))\n",
    "        img_features = extract_features(img)\n",
    "        features.append(img_features)\n",
    "\n",
    "# Load non-malicious images and extract features\n",
    "for filename in os.listdir(non_malicious_dir):\n",
    "    if filename.endswith(\".png\") or filename.endswith(\".jpg\"):\n",
    "        labels.append('non-malicious')\n",
    "        img = cv2.imread(os.path.join(non_malicious_dir, filename), cv2.IMREAD_GRAYSCALE)\n",
    "        img = cv2.resize(img, (128, 128))\n",
    "        img_features = extract_features(img)\n",
    "        features.append(img_features)\n",
    "\n",
    "# Convert labels to numerical values\n",
    "label_encoder = LabelEncoder()\n",
    "labels_encoded = label_encoder.fit_transform(labels)\n",
    "\n",
    "# Split the data into training and testing sets\n",
    "X_train, X_test, y_train, y_test = train_test_split(features, labels_encoded, test_size=0.2, random_state=42)\n",
    "\n",
    "# Create and train the SVM model\n",
    "svm_model = SVC(kernel='linear', C=1.0, random_state=42)\n",
    "svm_model.fit(X_train, y_train)\n",
    "\n",
    "# Make predictions on the test set\n",
    "y_pred = svm_model.predict(X_test)\n",
    "\n",
    "# Evaluate the model\n",
    "accuracy = accuracy_score(y_test, y_pred)\n",
    "conf_matrix = confusion_matrix(y_test, y_pred)\n",
    "f1 = f1_score(y_test, y_pred)\n",
    "\n",
    "# Print metrics\n",
    "print(\"Accuracy:\", accuracy)\n",
    "print(\"Confusion Matrix:\")\n",
    "print(conf_matrix)\n",
    "print(\"F1 Score:\", f1)\n",
    "\n"
   ]
  },
  {
   "cell_type": "code",
   "execution_count": 2,
   "metadata": {},
   "outputs": [],
   "source": [
    "# Save the model\n",
    "# import joblib\n",
    "# joblib.dump(svm_model, 'qr_code_svm_model.joblib')\n",
    "\n",
    "from sklearn.preprocessing import LabelEncoder\n",
    "import joblib\n",
    "svm_model = joblib.load('qr_code_svm_model.joblib')"
   ]
  },
  {
   "cell_type": "code",
   "execution_count": 6,
   "metadata": {},
   "outputs": [],
   "source": [
    "# SVM Feature Extract\n",
    "from scipy.stats import skew\n",
    "def extract_features(image):\n",
    "    mean = np.mean(image)\n",
    "    std_dev = np.std(image)\n",
    "    skewness = skew(image.flatten())\n",
    "    return [mean, std_dev, skewness]\n",
    "# SVM Model CALL\n",
    "def svm_call(path):\n",
    "    img_path=path\n",
    "    img = cv2.imread(img_path, cv2.IMREAD_GRAYSCALE)\n",
    "    img = cv2.resize(img, (128, 128))\n",
    "    img = extract_features(img)\n",
    "    img = np.reshape(img, (1, -1))  # Reshape to match the input shape of the SVM model\n",
    "    prediction = svm_model.predict(img)\n",
    "    if prediction == 0:\n",
    "        return \"NON-MALICIOUS\"\n",
    "    else:\n",
    "        return \"MALICIOUS\"\n",
    "\n"
   ]
  },
  {
   "cell_type": "code",
   "execution_count": 10,
   "metadata": {},
   "outputs": [
    {
     "data": {
      "text/plain": [
       "'MALICIOUS'"
      ]
     },
     "execution_count": 10,
     "metadata": {},
     "output_type": "execute_result"
    }
   ],
   "source": [
    "svm_call(r'Final Project\\SafeQR.png')"
   ]
  }
 ],
 "metadata": {
  "kernelspec": {
   "display_name": "MachineLearning",
   "language": "python",
   "name": "python3"
  },
  "language_info": {
   "codemirror_mode": {
    "name": "ipython",
    "version": 3
   },
   "file_extension": ".py",
   "mimetype": "text/x-python",
   "name": "python",
   "nbconvert_exporter": "python",
   "pygments_lexer": "ipython3",
   "version": "3.11.5"
  }
 },
 "nbformat": 4,
 "nbformat_minor": 2
}
