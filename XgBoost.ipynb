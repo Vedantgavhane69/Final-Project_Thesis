{
 "cells": [
  {
   "cell_type": "code",
   "execution_count": 2,
   "metadata": {},
   "outputs": [],
   "source": [
    "import os\n",
    "import cv2\n",
    "import numpy as np\n",
    "import xgboost as xgb\n",
    "from sklearn.model_selection import train_test_split\n",
    "from sklearn.metrics import accuracy_score, confusion_matrix, f1_score,precision_score,recall_score\n",
    "from sklearn.preprocessing import LabelEncoder\n",
    "from scipy.stats import skew"
   ]
  },
  {
   "cell_type": "code",
   "execution_count": 1,
   "metadata": {},
   "outputs": [
    {
     "name": "stdout",
     "output_type": "stream",
     "text": [
      "Accuracy: 0.66625\n",
      "Confusion Matrix:\n",
      "[[341  81]\n",
      " [186 192]]\n",
      "F1 Score: 0.5898617511520736\n"
     ]
    }
   ],
   "source": [
    "\n",
    "\n",
    "# Set the path to your labeled dataset folders\n",
    "malicious_dir = 'QR codes\\Malicious\\malicious'\n",
    "non_malicious_dir = r'QR codes\\Benign\\benign'\n",
    "\n",
    "# List to store the labels ('malicious' or 'non-malicious') and features\n",
    "labels = []\n",
    "features = []\n",
    "\n",
    "# Function to extract statistical features from an image\n",
    "def extract_features(image):\n",
    "    mean = np.mean(image)\n",
    "    std_dev = np.std(image)\n",
    "    skewness = skew(image.flatten())\n",
    "    return [mean, std_dev, skewness]\n",
    "\n",
    "# Load malicious images and extract features\n",
    "for filename in os.listdir(malicious_dir):\n",
    "    if filename.endswith(\".png\") or filename.endswith(\".jpg\"):\n",
    "        labels.append('malicious')\n",
    "        img = cv2.imread(os.path.join(malicious_dir, filename), cv2.IMREAD_GRAYSCALE)\n",
    "        img = cv2.resize(img, (128, 128))\n",
    "        img_features = extract_features(img)\n",
    "        features.append(img_features)\n",
    "\n",
    "# Load non-malicious images and extract features\n",
    "for filename in os.listdir(non_malicious_dir):\n",
    "    if filename.endswith(\".png\") or filename.endswith(\".jpg\"):\n",
    "        labels.append('non-malicious')\n",
    "        img = cv2.imread(os.path.join(non_malicious_dir, filename), cv2.IMREAD_GRAYSCALE)\n",
    "        img = cv2.resize(img, (128, 128))\n",
    "        img_features = extract_features(img)\n",
    "        features.append(img_features)\n",
    "\n",
    "# Convert labels to numerical values\n",
    "label_encoder = LabelEncoder()\n",
    "labels_encoded = label_encoder.fit_transform(labels)\n",
    "\n",
    "# Split the data into training and testing sets\n",
    "X_train, X_test, y_train, y_test = train_test_split(features, labels_encoded, test_size=0.2, random_state=42)\n",
    "\n",
    "# Convert data to DMatrix format for XGBoost\n",
    "dtrain = xgb.DMatrix(X_train, label=y_train)\n",
    "dtest = xgb.DMatrix(X_test, label=y_test)\n",
    "\n",
    "# Set XGBoost parameters\n",
    "params = {\n",
    "    'objective': 'binary:logistic',\n",
    "    'max_depth': 3,\n",
    "    'learning_rate': 0.1,\n",
    "    'eval_metric': 'logloss'\n",
    "}\n",
    "\n",
    "# Train the XGBoost model\n",
    "num_round = 100\n",
    "bst = xgb.train(params, dtrain, num_round)\n",
    "\n",
    "# Make predictions on the test set\n",
    "y_pred_probs = bst.predict(dtest)\n",
    "y_pred = np.round(y_pred_probs)\n",
    "\n",
    "# Evaluate the model\n",
    "accuracy = accuracy_score(y_test, y_pred)\n",
    "conf_matrix = confusion_matrix(y_test, y_pred)\n",
    "f1 = f1_score(y_test, y_pred)\n",
    "\n",
    "# Print metrics\n",
    "print(\"Accuracy:\", accuracy)\n",
    "print(\"Confusion Matrix:\")\n",
    "print(conf_matrix)\n",
    "print(\"F1 Score:\", f1)\n",
    "\n",
    "# Save the model\n",
    "bst.save_model('qr_code_xgboost_model.json')\n"
   ]
  },
  {
   "cell_type": "code",
   "execution_count": 8,
   "metadata": {},
   "outputs": [
    {
     "name": "stdout",
     "output_type": "stream",
     "text": [
      "Predicted class: non-malicious\n"
     ]
    }
   ],
   "source": [
    "import cv2\n",
    "import numpy as np\n",
    "import xgboost as xgb\n",
    "from scipy.stats import skew\n",
    "# Load the trained XGBoost model\n",
    "bst = xgb.Booster(model_file='qr_code_xgboost_model.json')  # Replace with the actual path to your trained XGBoost model\n",
    "\n",
    "# XgBoost Function to preprocess a new QR code image\n",
    "def preprocess_image(img_path):\n",
    "    img = cv2.imread(img_path, cv2.IMREAD_GRAYSCALE)\n",
    "    img = cv2.resize(img, (128, 128))\n",
    "    img_features = [np.mean(img), np.std(img), skew(img.flatten())]\n",
    "    return np.array(img_features).reshape(1, -1)\n",
    "\n",
    "# XgBoost Function to predict the class of a new QR code\n",
    "def predict_qr_code(img_path):\n",
    "    img_features = preprocess_image(img_path)\n",
    "    dtest = xgb.DMatrix(img_features)\n",
    "    prediction = bst.predict(dtest)\n",
    "    return int(round(prediction[0]))\n",
    "\n",
    "# Replace 'path/to/new_qr_code.png' with the path to your new QR code image\n",
    "new_qr_code_path = r'QR codes\\Benign\\benign_2.png'\n",
    "prediction = predict_qr_code(new_qr_code_path)\n",
    "\n",
    "# Print the prediction\n",
    "if prediction != 0:\n",
    "    print(\"Predicted class: non-malicious\")\n",
    "else:\n",
    "    print(\"Predicted class: malicious\")\n"
   ]
  }
 ],
 "metadata": {
  "kernelspec": {
   "display_name": "MachineLearning",
   "language": "python",
   "name": "python3"
  },
  "language_info": {
   "codemirror_mode": {
    "name": "ipython",
    "version": 3
   },
   "file_extension": ".py",
   "mimetype": "text/x-python",
   "name": "python",
   "nbconvert_exporter": "python",
   "pygments_lexer": "ipython3",
   "version": "3.8.18"
  }
 },
 "nbformat": 4,
 "nbformat_minor": 2
}
